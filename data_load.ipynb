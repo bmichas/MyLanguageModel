{
 "cells": [
  {
   "cell_type": "code",
   "execution_count": 1,
   "metadata": {},
   "outputs": [],
   "source": [
    "import pickle\n",
    "import string\n",
    "from tqdm import tqdm"
   ]
  },
  {
   "cell_type": "code",
   "execution_count": 2,
   "metadata": {},
   "outputs": [],
   "source": [
    "with open('data/corpus_wiki.pkl', 'rb') as f:\n",
    "    new_corpus = pickle.load(f)"
   ]
  },
  {
   "cell_type": "code",
   "execution_count": null,
   "metadata": {},
   "outputs": [
    {
     "name": "stdout",
     "output_type": "stream",
     "text": [
      "['AWK', 'jest', 'interpretowanym', 'językiem', 'programowania,', 'którego', 'główną', 'funkcją', 'jest', 'wyszukiwanie', 'i', 'przetwarzanie', 'wzorców.']\n",
      "['Jest', 'także', 'nazwą', 'programu', 'początkowo', 'dostępnego', 'dla', 'systemów', 'operacyjnych', 'będących', 'pochodnymi', 'UNIX-a,', 'obecnie', 'także', 'na', 'inne', 'platformy.']\n",
      "['Nazwa', 'języka', 'pochodzi', 'od', 'pierwszych', 'liter', 'nazwisk', 'jego', 'autorów', 'Alfreda', 'V.']\n",
      "['A', 'ho,', 'Petera', 'W', 'einbergera', 'i', 'Briana', 'K', 'ernighana', 'i', 'czasami', 'jest', 'zapisywana', 'małymi', 'literami', 'oraz', 'odczytywana', 'jako', 'jedno', 'słowo', 'awk', '.']\n",
      "['Definicja', 'języka', 'AWK', 'jest', 'zawarta', 'w', 'POSIX', '1003.2', 'Command', 'Language', 'And', 'Utilities', 'Standard.']\n",
      "['Wersja', 'ta', 'jest', 'z', 'kolei', 'oparta', 'na', 'opisie', 'z', 'The', 'AWK', 'Programming', 'Language', ',', 'napisanym', 'przez', 'Aho,', 'Weinbergera', 'i', 'Kernighana,', 'z', 'dodatkowymi', 'właściwościami,', 'zdefiniowanymi', 'w', 'wersji', 'awk', 'z', 'Sys.']\n",
      "['VR4.']\n",
      "['W', 'wierszu', 'poleceń', 'podaje', 'się', 'opcje', 'dla', 'awk,', 'tekst', 'programu', '(jeśli', 'nie', 'podano', 'go', 'poprzez', 'opcję', '-f', 'lub', '--file)', 'i', 'wartości,', 'które', 'mają', 'być', 'udostępnione', 'w', 'predefiniowanych', 'zmiennych', 'ARGC', 'i', 'ARGV.']\n",
      "['Wywołanie', 'programu', 'AWK']\n",
      "['Program', 'AWK', 'składa', 'się', 'z', 'sekwencji', 'instrukcji', 'wzorzec-akcja', 'oraz', 'opcjonalnych', 'definicji', 'funkcji.']\n",
      "[':', 'wzorzec', ':', 'funkcja', 'nazwa(lista', 'parametrów)', 'Tekst', 'programu', 'czytany', 'jest', 'tak,', 'jakby', 'wszystkie', 'pliki', 'programu', 'zostały', 'połączone', 'ze', 'sobą', 'w', 'całość,', 'przy', 'czym', 'pierwszeństwo', 'mają', 'pliki', 'podane', 'jako', 'argumenty', 'polecenia.']\n",
      "['Przydaje', 'się', 'to', 'do', 'budowania', 'bibliotek', 'funkcji', 'AWK,', 'bez', 'konieczności', 'włączaniaich', 'do', 'każdego', 'nowego', 'programu', 'AWK,', 'który', 'z', 'nichkorzysta.']\n",
      "['Umożliwia', 'to', 'również', 'łączenie', 'funkcji', 'bibliotecznych', 'z', 'programami', 'z', 'wiersza', 'poleceń.']\n",
      "['Zmienna', 'środowiskowa', 'AWKPATH', 'określa', 'ścieżkę', 'przeszukiwania,', 'używaną', 'do', 'znajdowania', 'plików', 'źródłowych', 'podanych', 'w', 'opcji', '-f.', 'Jeśli', 'zmienna', 'ta', 'nie', 'istnieje,', 'domyślną', 'ścieżką', 'staje', 'się\".']\n",
      "['/usr/local/share/awk\".']\n",
      "['(Faktyczny', 'katalog', 'może', 'być', 'różny,', 'zależnie', 'od', 'tego', 'jak', 'skompilowano', 'izainstalowano', 'awk).']\n",
      "['Jeśli', 'nazwa', 'pliku,', 'podana', 'opcji', '-f', 'zawiera', 'znak\"', '/\",', 'nie', 'jest', 'dokonywane', 'żadne', 'przeszukiwanie', 'ścieżki.']\n",
      "['Program', 'AWK', 'wykonywany', 'jest', 'w', 'następującej', 'kolejności.']\n",
      "['Najpierw', 'inicjalizowane', 'są', 'zmienne,', 'podane', 'w', 'opcjach', '-v.']\n",
      "['Następnie', 'program', 'kompilowany', 'jest', 'do', 'postaci', 'wewnętrznej.']\n"
     ]
    }
   ],
   "source": [
    "for sentence in new_corpus[:20]:\n",
    "    print(sentence)"
   ]
  },
  {
   "cell_type": "code",
   "execution_count": 3,
   "metadata": {},
   "outputs": [],
   "source": [
    "def polish_preprocess_text(sentences):\n",
    "    table = str.maketrans(\"\", \"\", string.punctuation) # removing punctuation - it has to be a conscious decision\n",
    "    tokenized_sentences = [[word.lower().translate(table) for word in sentence] for sentence in tqdm(sentences)]\n",
    "    tokenized_sentences = [[word for word in sentence if not word == \"\" and not word == \"–\"]for sentence in tqdm(tokenized_sentences)]\n",
    "    return tokenized_sentences\n",
    "\n",
    "\n",
    "tokenized_corpus = polish_preprocess_text(new_corpus)\n",
    "for sentence in tokenized_corpus[:20]:\n",
    "    print(sentence)"
   ]
  }
 ],
 "metadata": {
  "kernelspec": {
   "display_name": "Python 3",
   "language": "python",
   "name": "python3"
  },
  "language_info": {
   "codemirror_mode": {
    "name": "ipython",
    "version": 3
   },
   "file_extension": ".py",
   "mimetype": "text/x-python",
   "name": "python",
   "nbconvert_exporter": "python",
   "pygments_lexer": "ipython3",
   "version": "3.9.2"
  },
  "orig_nbformat": 4
 },
 "nbformat": 4,
 "nbformat_minor": 2
}
